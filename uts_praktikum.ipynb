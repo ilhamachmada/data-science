{
  "nbformat": 4,
  "nbformat_minor": 0,
  "metadata": {
    "kernelspec": {
      "display_name": "Python 3",
      "language": "python",
      "name": "python3"
    },
    "language_info": {
      "codemirror_mode": {
        "name": "ipython",
        "version": 3
      },
      "file_extension": ".py",
      "mimetype": "text/x-python",
      "name": "python",
      "nbconvert_exporter": "python",
      "pygments_lexer": "ipython3",
      "version": "3.8.3"
    },
    "colab": {
      "name": "uts-praktikum.ipynb",
      "provenance": [],
      "include_colab_link": true
    }
  },
  "cells": [
    {
      "cell_type": "markdown",
      "metadata": {
        "id": "view-in-github",
        "colab_type": "text"
      },
      "source": [
        "<a href=\"https://colab.research.google.com/github/ilhamachmada/uts-data-science/blob/main/uts_praktikum.ipynb\" target=\"_parent\"><img src=\"https://colab.research.google.com/assets/colab-badge.svg\" alt=\"Open In Colab\"/></a>"
      ]
    },
    {
      "cell_type": "code",
      "metadata": {
        "id": "cNHXE5CbYX70"
      },
      "source": [
        "import pandas as pd\n",
        "import numpy as np\n",
        "from numpy import mean\n",
        "from numpy import absolute\n",
        "from numpy import sqrt\n",
        "from numpy import nan\n",
        "from sklearn import preprocessing\n",
        "from sklearn import metrics\n",
        "from scipy.stats import zscore\n",
        "from sklearn.model_selection import train_test_split\n",
        "from sklearn.model_selection import cross_val_score\n",
        "from sklearn.model_selection import KFold\n",
        "from sklearn.neighbors import KNeighborsClassifier\n",
        "from sklearn.metrics import classification_report, confusion_matrix\n",
        "from sklearn.metrics import plot_confusion_matrix\n",
        "import matplotlib.pyplot as plt\n",
        "from sklearn.naive_bayes import GaussianNB\n",
        "from sklearn.tree import DecisionTreeClassifier\n",
        "from sklearn import svm\n",
        "from sklearn.metrics import precision_score, recall_score, f1_score, roc_auc_score, accuracy_score, make_scorer"
      ],
      "execution_count": null,
      "outputs": []
    },
    {
      "cell_type": "code",
      "metadata": {
        "id": "XcBasfTBYX76"
      },
      "source": [
        "df = pd.read_csv('titanic.csv')"
      ],
      "execution_count": null,
      "outputs": []
    },
    {
      "cell_type": "code",
      "metadata": {
        "scrolled": true,
        "id": "rGlwvuopYX77",
        "outputId": "a0833fa2-a0dd-4474-9263-f35b9864470b"
      },
      "source": [
        "df.head()"
      ],
      "execution_count": null,
      "outputs": [
        {
          "output_type": "execute_result",
          "data": {
            "text/html": [
              "<div>\n",
              "<style scoped>\n",
              "    .dataframe tbody tr th:only-of-type {\n",
              "        vertical-align: middle;\n",
              "    }\n",
              "\n",
              "    .dataframe tbody tr th {\n",
              "        vertical-align: top;\n",
              "    }\n",
              "\n",
              "    .dataframe thead th {\n",
              "        text-align: right;\n",
              "    }\n",
              "</style>\n",
              "<table border=\"1\" class=\"dataframe\">\n",
              "  <thead>\n",
              "    <tr style=\"text-align: right;\">\n",
              "      <th></th>\n",
              "      <th>PassengerId</th>\n",
              "      <th>Survived</th>\n",
              "      <th>Pclass</th>\n",
              "      <th>Name</th>\n",
              "      <th>Sex</th>\n",
              "      <th>Age</th>\n",
              "      <th>SibSp</th>\n",
              "      <th>Parch</th>\n",
              "      <th>Ticket</th>\n",
              "      <th>Fare</th>\n",
              "      <th>Cabin</th>\n",
              "      <th>Embarked</th>\n",
              "    </tr>\n",
              "  </thead>\n",
              "  <tbody>\n",
              "    <tr>\n",
              "      <th>0</th>\n",
              "      <td>1</td>\n",
              "      <td>0</td>\n",
              "      <td>3</td>\n",
              "      <td>Braund, Mr. Owen Harris</td>\n",
              "      <td>male</td>\n",
              "      <td>22.0</td>\n",
              "      <td>1</td>\n",
              "      <td>0</td>\n",
              "      <td>A/5 21171</td>\n",
              "      <td>7.2500</td>\n",
              "      <td>NaN</td>\n",
              "      <td>S</td>\n",
              "    </tr>\n",
              "    <tr>\n",
              "      <th>1</th>\n",
              "      <td>2</td>\n",
              "      <td>1</td>\n",
              "      <td>1</td>\n",
              "      <td>Cumings, Mrs. John Bradley (Florence Briggs Th...</td>\n",
              "      <td>female</td>\n",
              "      <td>38.0</td>\n",
              "      <td>1</td>\n",
              "      <td>0</td>\n",
              "      <td>PC 17599</td>\n",
              "      <td>71.2833</td>\n",
              "      <td>C85</td>\n",
              "      <td>C</td>\n",
              "    </tr>\n",
              "    <tr>\n",
              "      <th>2</th>\n",
              "      <td>3</td>\n",
              "      <td>1</td>\n",
              "      <td>3</td>\n",
              "      <td>Heikkinen, Miss. Laina</td>\n",
              "      <td>female</td>\n",
              "      <td>26.0</td>\n",
              "      <td>0</td>\n",
              "      <td>0</td>\n",
              "      <td>STON/O2. 3101282</td>\n",
              "      <td>7.9250</td>\n",
              "      <td>NaN</td>\n",
              "      <td>S</td>\n",
              "    </tr>\n",
              "    <tr>\n",
              "      <th>3</th>\n",
              "      <td>4</td>\n",
              "      <td>1</td>\n",
              "      <td>1</td>\n",
              "      <td>Futrelle, Mrs. Jacques Heath (Lily May Peel)</td>\n",
              "      <td>female</td>\n",
              "      <td>35.0</td>\n",
              "      <td>1</td>\n",
              "      <td>0</td>\n",
              "      <td>113803</td>\n",
              "      <td>53.1000</td>\n",
              "      <td>C123</td>\n",
              "      <td>S</td>\n",
              "    </tr>\n",
              "    <tr>\n",
              "      <th>4</th>\n",
              "      <td>5</td>\n",
              "      <td>0</td>\n",
              "      <td>3</td>\n",
              "      <td>Allen, Mr. William Henry</td>\n",
              "      <td>male</td>\n",
              "      <td>35.0</td>\n",
              "      <td>0</td>\n",
              "      <td>0</td>\n",
              "      <td>373450</td>\n",
              "      <td>8.0500</td>\n",
              "      <td>NaN</td>\n",
              "      <td>S</td>\n",
              "    </tr>\n",
              "  </tbody>\n",
              "</table>\n",
              "</div>"
            ],
            "text/plain": [
              "   PassengerId  Survived  Pclass  \\\n",
              "0            1         0       3   \n",
              "1            2         1       1   \n",
              "2            3         1       3   \n",
              "3            4         1       1   \n",
              "4            5         0       3   \n",
              "\n",
              "                                                Name     Sex   Age  SibSp  \\\n",
              "0                            Braund, Mr. Owen Harris    male  22.0      1   \n",
              "1  Cumings, Mrs. John Bradley (Florence Briggs Th...  female  38.0      1   \n",
              "2                             Heikkinen, Miss. Laina  female  26.0      0   \n",
              "3       Futrelle, Mrs. Jacques Heath (Lily May Peel)  female  35.0      1   \n",
              "4                           Allen, Mr. William Henry    male  35.0      0   \n",
              "\n",
              "   Parch            Ticket     Fare Cabin Embarked  \n",
              "0      0         A/5 21171   7.2500   NaN        S  \n",
              "1      0          PC 17599  71.2833   C85        C  \n",
              "2      0  STON/O2. 3101282   7.9250   NaN        S  \n",
              "3      0            113803  53.1000  C123        S  \n",
              "4      0            373450   8.0500   NaN        S  "
            ]
          },
          "metadata": {
            "tags": []
          },
          "execution_count": 120
        }
      ]
    },
    {
      "cell_type": "code",
      "metadata": {
        "id": "rrQBvZRUYX78"
      },
      "source": [
        "cols = ['Name', 'Ticket', 'Cabin']"
      ],
      "execution_count": null,
      "outputs": []
    },
    {
      "cell_type": "code",
      "metadata": {
        "id": "TXnXVb5QYX78"
      },
      "source": [
        "df = df.drop(cols,axis=1)"
      ],
      "execution_count": null,
      "outputs": []
    },
    {
      "cell_type": "code",
      "metadata": {
        "id": "xcoRcFLHYX78",
        "outputId": "4650264a-bf0a-494d-a78d-c2f76a7e4224"
      },
      "source": [
        "df.head()"
      ],
      "execution_count": null,
      "outputs": [
        {
          "output_type": "execute_result",
          "data": {
            "text/html": [
              "<div>\n",
              "<style scoped>\n",
              "    .dataframe tbody tr th:only-of-type {\n",
              "        vertical-align: middle;\n",
              "    }\n",
              "\n",
              "    .dataframe tbody tr th {\n",
              "        vertical-align: top;\n",
              "    }\n",
              "\n",
              "    .dataframe thead th {\n",
              "        text-align: right;\n",
              "    }\n",
              "</style>\n",
              "<table border=\"1\" class=\"dataframe\">\n",
              "  <thead>\n",
              "    <tr style=\"text-align: right;\">\n",
              "      <th></th>\n",
              "      <th>PassengerId</th>\n",
              "      <th>Survived</th>\n",
              "      <th>Pclass</th>\n",
              "      <th>Sex</th>\n",
              "      <th>Age</th>\n",
              "      <th>SibSp</th>\n",
              "      <th>Parch</th>\n",
              "      <th>Fare</th>\n",
              "      <th>Embarked</th>\n",
              "    </tr>\n",
              "  </thead>\n",
              "  <tbody>\n",
              "    <tr>\n",
              "      <th>0</th>\n",
              "      <td>1</td>\n",
              "      <td>0</td>\n",
              "      <td>3</td>\n",
              "      <td>male</td>\n",
              "      <td>22.0</td>\n",
              "      <td>1</td>\n",
              "      <td>0</td>\n",
              "      <td>7.2500</td>\n",
              "      <td>S</td>\n",
              "    </tr>\n",
              "    <tr>\n",
              "      <th>1</th>\n",
              "      <td>2</td>\n",
              "      <td>1</td>\n",
              "      <td>1</td>\n",
              "      <td>female</td>\n",
              "      <td>38.0</td>\n",
              "      <td>1</td>\n",
              "      <td>0</td>\n",
              "      <td>71.2833</td>\n",
              "      <td>C</td>\n",
              "    </tr>\n",
              "    <tr>\n",
              "      <th>2</th>\n",
              "      <td>3</td>\n",
              "      <td>1</td>\n",
              "      <td>3</td>\n",
              "      <td>female</td>\n",
              "      <td>26.0</td>\n",
              "      <td>0</td>\n",
              "      <td>0</td>\n",
              "      <td>7.9250</td>\n",
              "      <td>S</td>\n",
              "    </tr>\n",
              "    <tr>\n",
              "      <th>3</th>\n",
              "      <td>4</td>\n",
              "      <td>1</td>\n",
              "      <td>1</td>\n",
              "      <td>female</td>\n",
              "      <td>35.0</td>\n",
              "      <td>1</td>\n",
              "      <td>0</td>\n",
              "      <td>53.1000</td>\n",
              "      <td>S</td>\n",
              "    </tr>\n",
              "    <tr>\n",
              "      <th>4</th>\n",
              "      <td>5</td>\n",
              "      <td>0</td>\n",
              "      <td>3</td>\n",
              "      <td>male</td>\n",
              "      <td>35.0</td>\n",
              "      <td>0</td>\n",
              "      <td>0</td>\n",
              "      <td>8.0500</td>\n",
              "      <td>S</td>\n",
              "    </tr>\n",
              "  </tbody>\n",
              "</table>\n",
              "</div>"
            ],
            "text/plain": [
              "   PassengerId  Survived  Pclass     Sex   Age  SibSp  Parch     Fare Embarked\n",
              "0            1         0       3    male  22.0      1      0   7.2500        S\n",
              "1            2         1       1  female  38.0      1      0  71.2833        C\n",
              "2            3         1       3  female  26.0      0      0   7.9250        S\n",
              "3            4         1       1  female  35.0      1      0  53.1000        S\n",
              "4            5         0       3    male  35.0      0      0   8.0500        S"
            ]
          },
          "metadata": {
            "tags": []
          },
          "execution_count": 123
        }
      ]
    },
    {
      "cell_type": "code",
      "metadata": {
        "id": "d6app4zfYX79"
      },
      "source": [
        "replace_map = {'Sex':{'male':1, 'female':0},\n",
        "               'Embarked':{'S':0, 'C':1, 'Q':2}\n",
        "}\n",
        "df = df.replace(replace_map)"
      ],
      "execution_count": null,
      "outputs": []
    },
    {
      "cell_type": "code",
      "metadata": {
        "id": "bMJS-ykyYX79",
        "outputId": "8c1f28cc-23e0-41d8-d5f5-db87da400887"
      },
      "source": [
        "df.head()"
      ],
      "execution_count": null,
      "outputs": [
        {
          "output_type": "execute_result",
          "data": {
            "text/html": [
              "<div>\n",
              "<style scoped>\n",
              "    .dataframe tbody tr th:only-of-type {\n",
              "        vertical-align: middle;\n",
              "    }\n",
              "\n",
              "    .dataframe tbody tr th {\n",
              "        vertical-align: top;\n",
              "    }\n",
              "\n",
              "    .dataframe thead th {\n",
              "        text-align: right;\n",
              "    }\n",
              "</style>\n",
              "<table border=\"1\" class=\"dataframe\">\n",
              "  <thead>\n",
              "    <tr style=\"text-align: right;\">\n",
              "      <th></th>\n",
              "      <th>PassengerId</th>\n",
              "      <th>Survived</th>\n",
              "      <th>Pclass</th>\n",
              "      <th>Sex</th>\n",
              "      <th>Age</th>\n",
              "      <th>SibSp</th>\n",
              "      <th>Parch</th>\n",
              "      <th>Fare</th>\n",
              "      <th>Embarked</th>\n",
              "    </tr>\n",
              "  </thead>\n",
              "  <tbody>\n",
              "    <tr>\n",
              "      <th>0</th>\n",
              "      <td>1</td>\n",
              "      <td>0</td>\n",
              "      <td>3</td>\n",
              "      <td>1</td>\n",
              "      <td>22.0</td>\n",
              "      <td>1</td>\n",
              "      <td>0</td>\n",
              "      <td>7.2500</td>\n",
              "      <td>0.0</td>\n",
              "    </tr>\n",
              "    <tr>\n",
              "      <th>1</th>\n",
              "      <td>2</td>\n",
              "      <td>1</td>\n",
              "      <td>1</td>\n",
              "      <td>0</td>\n",
              "      <td>38.0</td>\n",
              "      <td>1</td>\n",
              "      <td>0</td>\n",
              "      <td>71.2833</td>\n",
              "      <td>1.0</td>\n",
              "    </tr>\n",
              "    <tr>\n",
              "      <th>2</th>\n",
              "      <td>3</td>\n",
              "      <td>1</td>\n",
              "      <td>3</td>\n",
              "      <td>0</td>\n",
              "      <td>26.0</td>\n",
              "      <td>0</td>\n",
              "      <td>0</td>\n",
              "      <td>7.9250</td>\n",
              "      <td>0.0</td>\n",
              "    </tr>\n",
              "    <tr>\n",
              "      <th>3</th>\n",
              "      <td>4</td>\n",
              "      <td>1</td>\n",
              "      <td>1</td>\n",
              "      <td>0</td>\n",
              "      <td>35.0</td>\n",
              "      <td>1</td>\n",
              "      <td>0</td>\n",
              "      <td>53.1000</td>\n",
              "      <td>0.0</td>\n",
              "    </tr>\n",
              "    <tr>\n",
              "      <th>4</th>\n",
              "      <td>5</td>\n",
              "      <td>0</td>\n",
              "      <td>3</td>\n",
              "      <td>1</td>\n",
              "      <td>35.0</td>\n",
              "      <td>0</td>\n",
              "      <td>0</td>\n",
              "      <td>8.0500</td>\n",
              "      <td>0.0</td>\n",
              "    </tr>\n",
              "  </tbody>\n",
              "</table>\n",
              "</div>"
            ],
            "text/plain": [
              "   PassengerId  Survived  Pclass  Sex   Age  SibSp  Parch     Fare  Embarked\n",
              "0            1         0       3    1  22.0      1      0   7.2500       0.0\n",
              "1            2         1       1    0  38.0      1      0  71.2833       1.0\n",
              "2            3         1       3    0  26.0      0      0   7.9250       0.0\n",
              "3            4         1       1    0  35.0      1      0  53.1000       0.0\n",
              "4            5         0       3    1  35.0      0      0   8.0500       0.0"
            ]
          },
          "metadata": {
            "tags": []
          },
          "execution_count": 125
        }
      ]
    },
    {
      "cell_type": "code",
      "metadata": {
        "id": "YzJ4-TmMYX79",
        "outputId": "c6e3c0cd-3aea-4f45-cd42-33adda6eccd7"
      },
      "source": [
        "df.isna().sum()"
      ],
      "execution_count": null,
      "outputs": [
        {
          "output_type": "execute_result",
          "data": {
            "text/plain": [
              "PassengerId      0\n",
              "Survived         0\n",
              "Pclass           0\n",
              "Sex              0\n",
              "Age            177\n",
              "SibSp            0\n",
              "Parch            0\n",
              "Fare             0\n",
              "Embarked         2\n",
              "dtype: int64"
            ]
          },
          "metadata": {
            "tags": []
          },
          "execution_count": 126
        }
      ]
    },
    {
      "cell_type": "code",
      "metadata": {
        "id": "4qDtEwInYX7-"
      },
      "source": [
        "df['Age'] = df.groupby('Survived')['Age'].transform(lambda x: x.fillna(x.mean()))\n",
        "df['Embarked'] = df.groupby('Survived')['Embarked'].transform(lambda x: x.fillna(x.mean()))"
      ],
      "execution_count": null,
      "outputs": []
    },
    {
      "cell_type": "code",
      "metadata": {
        "id": "cJDeuLwgYX7-",
        "outputId": "0bcdd851-e1f2-43d3-86fb-77d9ed7c425d"
      },
      "source": [
        "df.isna().sum()"
      ],
      "execution_count": null,
      "outputs": [
        {
          "output_type": "execute_result",
          "data": {
            "text/plain": [
              "PassengerId    0\n",
              "Survived       0\n",
              "Pclass         0\n",
              "Sex            0\n",
              "Age            0\n",
              "SibSp          0\n",
              "Parch          0\n",
              "Fare           0\n",
              "Embarked       0\n",
              "dtype: int64"
            ]
          },
          "metadata": {
            "tags": []
          },
          "execution_count": 128
        }
      ]
    },
    {
      "cell_type": "code",
      "metadata": {
        "id": "LJzcGiRfYX7-"
      },
      "source": [
        "X = df.drop(columns=['Survived'])\n",
        "y=df['Survived'].values"
      ],
      "execution_count": null,
      "outputs": []
    },
    {
      "cell_type": "code",
      "metadata": {
        "id": "0E-O3MRNYX7_",
        "outputId": "bdcc809c-ecff-4014-d69a-f454a2687cd0"
      },
      "source": [
        "X.head()"
      ],
      "execution_count": null,
      "outputs": [
        {
          "output_type": "execute_result",
          "data": {
            "text/html": [
              "<div>\n",
              "<style scoped>\n",
              "    .dataframe tbody tr th:only-of-type {\n",
              "        vertical-align: middle;\n",
              "    }\n",
              "\n",
              "    .dataframe tbody tr th {\n",
              "        vertical-align: top;\n",
              "    }\n",
              "\n",
              "    .dataframe thead th {\n",
              "        text-align: right;\n",
              "    }\n",
              "</style>\n",
              "<table border=\"1\" class=\"dataframe\">\n",
              "  <thead>\n",
              "    <tr style=\"text-align: right;\">\n",
              "      <th></th>\n",
              "      <th>PassengerId</th>\n",
              "      <th>Pclass</th>\n",
              "      <th>Sex</th>\n",
              "      <th>Age</th>\n",
              "      <th>SibSp</th>\n",
              "      <th>Parch</th>\n",
              "      <th>Fare</th>\n",
              "      <th>Embarked</th>\n",
              "    </tr>\n",
              "  </thead>\n",
              "  <tbody>\n",
              "    <tr>\n",
              "      <th>0</th>\n",
              "      <td>1</td>\n",
              "      <td>3</td>\n",
              "      <td>1</td>\n",
              "      <td>22.0</td>\n",
              "      <td>1</td>\n",
              "      <td>0</td>\n",
              "      <td>7.2500</td>\n",
              "      <td>0.0</td>\n",
              "    </tr>\n",
              "    <tr>\n",
              "      <th>1</th>\n",
              "      <td>2</td>\n",
              "      <td>1</td>\n",
              "      <td>0</td>\n",
              "      <td>38.0</td>\n",
              "      <td>1</td>\n",
              "      <td>0</td>\n",
              "      <td>71.2833</td>\n",
              "      <td>1.0</td>\n",
              "    </tr>\n",
              "    <tr>\n",
              "      <th>2</th>\n",
              "      <td>3</td>\n",
              "      <td>3</td>\n",
              "      <td>0</td>\n",
              "      <td>26.0</td>\n",
              "      <td>0</td>\n",
              "      <td>0</td>\n",
              "      <td>7.9250</td>\n",
              "      <td>0.0</td>\n",
              "    </tr>\n",
              "    <tr>\n",
              "      <th>3</th>\n",
              "      <td>4</td>\n",
              "      <td>1</td>\n",
              "      <td>0</td>\n",
              "      <td>35.0</td>\n",
              "      <td>1</td>\n",
              "      <td>0</td>\n",
              "      <td>53.1000</td>\n",
              "      <td>0.0</td>\n",
              "    </tr>\n",
              "    <tr>\n",
              "      <th>4</th>\n",
              "      <td>5</td>\n",
              "      <td>3</td>\n",
              "      <td>1</td>\n",
              "      <td>35.0</td>\n",
              "      <td>0</td>\n",
              "      <td>0</td>\n",
              "      <td>8.0500</td>\n",
              "      <td>0.0</td>\n",
              "    </tr>\n",
              "  </tbody>\n",
              "</table>\n",
              "</div>"
            ],
            "text/plain": [
              "   PassengerId  Pclass  Sex   Age  SibSp  Parch     Fare  Embarked\n",
              "0            1       3    1  22.0      1      0   7.2500       0.0\n",
              "1            2       1    0  38.0      1      0  71.2833       1.0\n",
              "2            3       3    0  26.0      0      0   7.9250       0.0\n",
              "3            4       1    0  35.0      1      0  53.1000       0.0\n",
              "4            5       3    1  35.0      0      0   8.0500       0.0"
            ]
          },
          "metadata": {
            "tags": []
          },
          "execution_count": 130
        }
      ]
    },
    {
      "cell_type": "code",
      "metadata": {
        "id": "I6PNKNJTYX7_"
      },
      "source": [
        "min_max_scaler = preprocessing.MinMaxScaler()\n",
        "X = min_max_scaler.fit_transform(X)\n",
        "#X.apply(zscore)"
      ],
      "execution_count": null,
      "outputs": []
    },
    {
      "cell_type": "code",
      "metadata": {
        "id": "La7KkjMUYX7_"
      },
      "source": [
        "X_train_split, X_test_split, y_train_split, y_test_split = train_test_split(X, y, test_size=0.3, random_state=42)"
      ],
      "execution_count": null,
      "outputs": []
    },
    {
      "cell_type": "code",
      "metadata": {
        "id": "Y3WRBq4CYX7_"
      },
      "source": [
        "kf = KFold(n_splits=5,shuffle=True,random_state=42)"
      ],
      "execution_count": null,
      "outputs": []
    },
    {
      "cell_type": "code",
      "metadata": {
        "id": "o7hP5fx7YX8A"
      },
      "source": [
        "#knn\n",
        "knn = KNeighborsClassifier(n_neighbors=3)\n",
        "knn.fit(X_train_split,y_train_split)\n",
        "y_pred_knn = knn.predict(X_test_split)"
      ],
      "execution_count": null,
      "outputs": []
    },
    {
      "cell_type": "code",
      "metadata": {
        "id": "QfCTe_J_YX8A",
        "outputId": "b325da80-32b3-40cf-c606-3912ba55d6c2"
      },
      "source": [
        "knn_acc = accuracy_score(y_test_split,y_pred_knn)\n",
        "knn_roc = roc_auc_score(y_test_split, y_pred_knn)\n",
        "knn_prec = precision_score(y_test_split, y_pred_knn)\n",
        "knn_recall = recall_score(y_test_split, y_pred_knn)\n",
        "#knn_spec = recall_score(y_test_split, y_pred_knn,pos_label=2)\n",
        "knn_f1 = f1_score(y_test_split, y_pred_knn)\n",
        "print('Pengukuran menggunakan train_test_split dengan sklearn.metrics')\n",
        "print('a. Accuracy       :',knn_acc)\n",
        "print('b. ROC-Curve Score:',knn_roc)\n",
        "print('c. Precision      :',knn_prec)\n",
        "print('d. Recall         :',knn_recall)\n",
        "print('e. Sensitivity    :',knn_recall)\n",
        "print('f. Specificity    : (tidak tersedia di sklearn.metrics)')\n",
        "print('g. F1-Measure     :',knn_f1)"
      ],
      "execution_count": null,
      "outputs": [
        {
          "output_type": "stream",
          "text": [
            "Pengukuran menggunakan train_test_split dengan sklearn.metrics\n",
            "a. Accuracy       : 0.7835820895522388\n",
            "b. ROC-Curve Score: 0.7664543524416135\n",
            "c. Precision      : 0.7789473684210526\n",
            "d. Recall         : 0.6666666666666666\n",
            "e. Sensitivity    : 0.6666666666666666\n",
            "f. Specificity    : (tidak tersedia di sklearn.metrics)\n",
            "g. F1-Measure     : 0.7184466019417475\n"
          ],
          "name": "stdout"
        }
      ]
    },
    {
      "cell_type": "code",
      "metadata": {
        "id": "R1JPxPxrYX8A",
        "outputId": "afd51815-f6c8-497a-92e6-e605bef31be7"
      },
      "source": [
        "matrix = confusion_matrix(y_test_split,y_pred_knn)\n",
        "print('Confusion matrix')\n",
        "print(matrix)\n",
        "tp = (matrix[0][0])\n",
        "fp = (matrix[0][1])\n",
        "fn = (matrix[1][0])\n",
        "tn = (matrix[1][1])\n",
        "print(\"TP = \",tp)\n",
        "print(\"FP = \",fp)\n",
        "print(\"FN = \",fn)\n",
        "print(\"TN = \",tn,'\\n')\n",
        "recall = tp/(tp+fn)\n",
        "specifity = tn/(tn+fp)\n",
        "accuracy = (tp+tn)/(tp+fn+fp+tn)\n",
        "precision = tp/(tp+fp)\n",
        "f1 = 2*(precision*recall)/(precision+recall)\n",
        "print('Pengukuran menggunakan perhitungan manual\\ndengan confusion matrix (train_test_split)')\n",
        "print('a. Accuracy       :',accuracy)\n",
        "print('b. ROC-Curve Score:(tidak ada formula yang pasti)')\n",
        "print('c. Precision      :',precision)\n",
        "print('d. Recall         :',recall)\n",
        "print('e. Sensitivity    :',recall)\n",
        "print('f. Specificity    :',specifity)\n",
        "print('g. F1-Measure     :',f1)"
      ],
      "execution_count": null,
      "outputs": [
        {
          "output_type": "stream",
          "text": [
            "Confusion matrix\n",
            "[[136  21]\n",
            " [ 37  74]]\n",
            "TP =  136\n",
            "FP =  21\n",
            "FN =  37\n",
            "TN =  74 \n",
            "\n",
            "Pengukuran menggunakan perhitungan manual\n",
            "dengan confusion matrix (train_test_split)\n",
            "a. Accuracy       : 0.7835820895522388\n",
            "b. ROC-Curve Score:(tidak ada formula yang pasti)\n",
            "c. Precision      : 0.8662420382165605\n",
            "d. Recall         : 0.7861271676300579\n",
            "e. Sensitivity    : 0.7861271676300579\n",
            "f. Specificity    : 0.7789473684210526\n",
            "g. F1-Measure     : 0.8242424242424242\n"
          ],
          "name": "stdout"
        }
      ]
    },
    {
      "cell_type": "code",
      "metadata": {
        "id": "fsx5kUAOYX8B",
        "outputId": "1893f532-71e9-435a-88b7-5f7688675a1f"
      },
      "source": [
        "print(classification_report(y_test_split,y_pred_knn))"
      ],
      "execution_count": null,
      "outputs": [
        {
          "output_type": "stream",
          "text": [
            "              precision    recall  f1-score   support\n",
            "\n",
            "           0       0.79      0.87      0.82       157\n",
            "           1       0.78      0.67      0.72       111\n",
            "\n",
            "    accuracy                           0.78       268\n",
            "   macro avg       0.78      0.77      0.77       268\n",
            "weighted avg       0.78      0.78      0.78       268\n",
            "\n"
          ],
          "name": "stdout"
        }
      ]
    },
    {
      "cell_type": "code",
      "metadata": {
        "id": "u8bvFa54YX8B",
        "outputId": "5de0aac5-c964-4984-9f31-74e917ea87a3"
      },
      "source": [
        "knn_acc_cv = cross_val_score(knn, X, y, cv=kf, scoring='accuracy')\n",
        "try:\n",
        "    knn_roc_cv = cross_val_score(knn, X, y, cv=kf, scoring='roc_auc')\n",
        "except ValueError:\n",
        "    knn_roc_cv = 0\n",
        "knn_prec_cv = cross_val_score(knn, X, y, cv=kf, scoring='precision')\n",
        "knn_recall_cv = cross_val_score(knn, X, y, cv=kf, scoring='recall')\n",
        "knn_f1_cv = cross_val_score(knn, X, y, cv=kf, scoring='f1')\n",
        "print('Pengukuran K-fold menggunakan cross_val_score')\n",
        "print('a. Accuracy       :',mean(knn_acc_cv))\n",
        "print('b. ROC-Curve Score:',mean(knn_roc_cv))\n",
        "print('c. Precision      :',mean(knn_prec_cv))\n",
        "print('d. Recall         :',mean(knn_recall_cv))\n",
        "print('e. Sensitivity    :',mean(knn_recall_cv))\n",
        "print('f. Specificity    :(tidak tersedia dalam scoring cross_val_score)')\n",
        "print('g. F1-Measure     :',mean(knn_f1_cv))"
      ],
      "execution_count": null,
      "outputs": [
        {
          "output_type": "stream",
          "text": [
            "Pengukuran K-fold menggunakan cross_val_score\n",
            "a. Accuracy       : 0.7777854497520555\n",
            "b. ROC-Curve Score: 0.8135917629224327\n",
            "c. Precision      : 0.7431154444495787\n",
            "d. Recall         : 0.6463426636560965\n",
            "e. Sensitivity    : 0.6463426636560965\n",
            "f. Specificity    :(tidak tersedia dalam scoring cross_val_score)\n",
            "g. F1-Measure     : 0.6889061669573607\n"
          ],
          "name": "stdout"
        }
      ]
    },
    {
      "cell_type": "code",
      "metadata": {
        "id": "B8mT4se5YX8B"
      },
      "source": [
        "####################################################################"
      ],
      "execution_count": null,
      "outputs": []
    },
    {
      "cell_type": "code",
      "metadata": {
        "id": "Wgm30aTjYX8C"
      },
      "source": [
        "#naive bayes\n",
        "gnb = GaussianNB()\n",
        "gnb.fit(X_train_split, y_train_split)\n",
        "y_pred_gnb = gnb.predict(X_test_split)"
      ],
      "execution_count": null,
      "outputs": []
    },
    {
      "cell_type": "code",
      "metadata": {
        "id": "msTue4GbYX8C",
        "outputId": "38a28269-b9f0-49ab-dc7d-d71d7003f099"
      },
      "source": [
        "gnb_acc = accuracy_score(y_test_split,y_pred_gnb)\n",
        "gnb_roc = roc_auc_score(y_test_split, y_pred_gnb)\n",
        "gnb_prec = precision_score(y_test_split, y_pred_gnb)\n",
        "gnb_recall = recall_score(y_test_split, y_pred_gnb)\n",
        "#gnb_spec = recall_score(y_test_split, y_pred_gnb,pos_label=2)\n",
        "gnb_f1 = f1_score(y_test_split, y_pred_gnb)\n",
        "print('Pengukuran menggunakan train_test_split dengan sklearn.metrics')\n",
        "print('a. Accuracy       :',gnb_acc)\n",
        "print('b. ROC-Curve Score:',gnb_roc)\n",
        "print('c. Precision      :',gnb_prec)\n",
        "print('d. Recall         :',gnb_recall)\n",
        "print('e. Sensitivity    :',gnb_recall)\n",
        "print('f. Specificity    : (tidak tersedia di sklearn.metrics)')\n",
        "print('g. F1-Measure     :',gnb_f1)"
      ],
      "execution_count": null,
      "outputs": [
        {
          "output_type": "stream",
          "text": [
            "Pengukuran menggunakan train_test_split dengan sklearn.metrics\n",
            "a. Accuracy       : 0.7985074626865671\n",
            "b. ROC-Curve Score: 0.7910713261031733\n",
            "c. Precision      : 0.7614678899082569\n",
            "d. Recall         : 0.7477477477477478\n",
            "e. Sensitivity    : 0.7477477477477478\n",
            "f. Specificity    : (tidak tersedia di sklearn.metrics)\n",
            "g. F1-Measure     : 0.7545454545454546\n"
          ],
          "name": "stdout"
        }
      ]
    },
    {
      "cell_type": "code",
      "metadata": {
        "id": "FyRrZEGFYX8D",
        "outputId": "4eadffed-1eb6-4ce1-c9f1-e0ef8d7bb0c1"
      },
      "source": [
        "matrix = confusion_matrix(y_test_split,y_pred_gnb)\n",
        "print('Confusion matrix')\n",
        "print(matrix)\n",
        "tp = (matrix[0][0])\n",
        "fp = (matrix[0][1])\n",
        "fn = (matrix[1][0])\n",
        "tn = (matrix[1][1])\n",
        "print(\"TP = \",tp)\n",
        "print(\"FP = \",fp)\n",
        "print(\"FN = \",fn)\n",
        "print(\"TN = \",tn,'\\n')\n",
        "recall = tp/(tp+fn)\n",
        "specifity = tn/(tn+fp)\n",
        "accuracy = (tp+tn)/(tp+fn+fp+tn)\n",
        "precision = tp/(tp+fp)\n",
        "f1 = 2*(precision*recall)/(precision+recall)\n",
        "#t = tp / 2*(tp+fn)\n",
        "#u = tn / 2*(tn+fp)\n",
        "#roc = tp*fp+2*tp*tn+2*fn*tn/(tp+fn)*(fp+tn)\n",
        "print('Pengukuran menggunakan perhitungan manual\\ndengan confusion matrix (train_test_split)')\n",
        "print('a. Accuracy       :',accuracy)\n",
        "print('b. ROC-Curve Score:(tidak ada formula yang pasti)')\n",
        "print('c. Precision      :',precision)\n",
        "print('d. Recall         :',recall)\n",
        "print('e. Sensitivity    :',recall)\n",
        "print('f. Specificity    :',specifity)\n",
        "print('g. F1-Measure     :',f1)"
      ],
      "execution_count": null,
      "outputs": [
        {
          "output_type": "stream",
          "text": [
            "Confusion matrix\n",
            "[[131  26]\n",
            " [ 28  83]]\n",
            "TP =  131\n",
            "FP =  26\n",
            "FN =  28\n",
            "TN =  83 \n",
            "\n",
            "Pengukuran menggunakan perhitungan manual\n",
            "dengan confusion matrix (train_test_split)\n",
            "a. Accuracy       : 0.7985074626865671\n",
            "b. ROC-Curve Score:(tidak ada formula yang pasti)\n",
            "c. Precision      : 0.8343949044585988\n",
            "d. Recall         : 0.8238993710691824\n",
            "e. Sensitivity    : 0.8238993710691824\n",
            "f. Specificity    : 0.7614678899082569\n",
            "g. F1-Measure     : 0.829113924050633\n"
          ],
          "name": "stdout"
        }
      ]
    },
    {
      "cell_type": "code",
      "metadata": {
        "scrolled": true,
        "id": "l_2D7Co3YX8E",
        "outputId": "0ae802fe-a020-4160-91ea-c9544585c325"
      },
      "source": [
        "print(classification_report(y_test_split,y_pred_gnb))"
      ],
      "execution_count": null,
      "outputs": [
        {
          "output_type": "stream",
          "text": [
            "              precision    recall  f1-score   support\n",
            "\n",
            "           0       0.82      0.83      0.83       157\n",
            "           1       0.76      0.75      0.75       111\n",
            "\n",
            "    accuracy                           0.80       268\n",
            "   macro avg       0.79      0.79      0.79       268\n",
            "weighted avg       0.80      0.80      0.80       268\n",
            "\n"
          ],
          "name": "stdout"
        }
      ]
    },
    {
      "cell_type": "code",
      "metadata": {
        "id": "w-pxikA7YX8F",
        "outputId": "aaf96ff7-c875-4a20-8773-2b33c58e6239"
      },
      "source": [
        "gnb_acc_cv = cross_val_score(gnb, X, y, cv=kf, scoring='accuracy')\n",
        "try:\n",
        "    gnb_roc_cv = cross_val_score(gnb, X, y, cv=kf, scoring='roc_auc')\n",
        "except ValueError:\n",
        "    gnb_roc_cv = 0\n",
        "gnb_prec_cv = cross_val_score(gnb, X, y, cv=kf, scoring='precision')\n",
        "gnb_recall_cv = cross_val_score(gnb, X, y, cv=kf, scoring='recall')\n",
        "gnb_f1_cv = cross_val_score(gnb, X, y, cv=kf, scoring='f1')\n",
        "print('Pengukuran K-fold menggunakan cross_val_score')\n",
        "print('a. Accuracy       :',mean(gnb_acc_cv))\n",
        "print('b. ROC-Curve Score:',mean(gnb_roc_cv))\n",
        "print('c. Precision      :',mean(gnb_prec_cv))\n",
        "print('d. Recall         :',mean(gnb_recall_cv))\n",
        "print('e. Sensitivity    :',mean(gnb_recall_cv))\n",
        "print('f. Specificity    :(tidak tersedia dalam scoring cross_val_score)')\n",
        "print('g. F1-Measure     :',mean(gnb_f1_cv))"
      ],
      "execution_count": null,
      "outputs": [
        {
          "output_type": "stream",
          "text": [
            "Pengukuran K-fold menggunakan cross_val_score\n",
            "a. Accuracy       : 0.7923859142552256\n",
            "b. ROC-Curve Score: 0.8361652714523867\n",
            "c. Precision      : 0.7370579589329589\n",
            "d. Recall         : 0.7124995913055614\n",
            "e. Sensitivity    : 0.7124995913055614\n",
            "f. Specificity    :(tidak tersedia dalam scoring cross_val_score)\n",
            "g. F1-Measure     : 0.7244639578018511\n"
          ],
          "name": "stdout"
        }
      ]
    },
    {
      "cell_type": "code",
      "metadata": {
        "id": "L4VgiWFUYX8G"
      },
      "source": [
        "########################################################3"
      ],
      "execution_count": null,
      "outputs": []
    },
    {
      "cell_type": "code",
      "metadata": {
        "id": "XU1l9ov5YX8G"
      },
      "source": [
        "#decision tree\n",
        "dt = DecisionTreeClassifier()\n",
        "dt.fit(X_train_split, y_train_split)\n",
        "y_pred_dt = dt.predict(X_test_split)"
      ],
      "execution_count": null,
      "outputs": []
    },
    {
      "cell_type": "code",
      "metadata": {
        "id": "B027GVVyYX8H",
        "outputId": "bf3841dd-5dcb-443a-e975-ec00aed70f01"
      },
      "source": [
        "dt_acc = accuracy_score(y_test_split,y_pred_dt)\n",
        "dt_roc = roc_auc_score(y_test_split, y_pred_dt)\n",
        "dt_prec = precision_score(y_test_split, y_pred_dt)\n",
        "dt_recall = recall_score(y_test_split, y_pred_dt)\n",
        "#dt_spec = recall_score(y_test_split, y_pred_dt,pos_label=2)\n",
        "dt_f1 = f1_score(y_test_split, y_pred_dt)\n",
        "print('Pengukuran menggunakan train_test_split dengan sklearn.metrics')\n",
        "print('a. Accuracy       :',dt_acc)\n",
        "print('b. ROC-Curve Score:',dt_roc)\n",
        "print('c. Precision      :',dt_prec)\n",
        "print('d. Recall         :',dt_recall)\n",
        "print('e. Sensitivity    :',dt_recall)\n",
        "print('f. Specificity    : (tidak tersedia di sklearn.metrics)')\n",
        "print('g. F1-Measure     :',dt_f1)"
      ],
      "execution_count": null,
      "outputs": [
        {
          "output_type": "stream",
          "text": [
            "Pengukuran menggunakan train_test_split dengan sklearn.metrics\n",
            "a. Accuracy       : 0.8097014925373134\n",
            "b. ROC-Curve Score: 0.8006254662305617\n",
            "c. Precision      : 0.7830188679245284\n",
            "d. Recall         : 0.7477477477477478\n",
            "e. Sensitivity    : 0.7477477477477478\n",
            "f. Specificity    : (tidak tersedia di sklearn.metrics)\n",
            "g. F1-Measure     : 0.7649769585253458\n"
          ],
          "name": "stdout"
        }
      ]
    },
    {
      "cell_type": "code",
      "metadata": {
        "id": "P-l5JZfTYX8I",
        "outputId": "31f1e475-f702-4546-f7a5-8d58289abf73"
      },
      "source": [
        "matrix = confusion_matrix(y_test_split,y_pred_dt)\n",
        "print('Confusion matrix')\n",
        "print(matrix)\n",
        "tp = (matrix[0][0])\n",
        "fp = (matrix[0][1])\n",
        "fn = (matrix[1][0])\n",
        "tn = (matrix[1][1])\n",
        "print(\"TP = \",tp)\n",
        "print(\"FP = \",fp)\n",
        "print(\"FN = \",fn)\n",
        "print(\"TN = \",tn,'\\n')\n",
        "recall = tp/(tp+fn)\n",
        "specifity = tn/(tn+fp)\n",
        "accuracy = (tp+tn)/(tp+fn+fp+tn)\n",
        "precision = tp/(tp+fp)\n",
        "f1 = 2*(precision*recall)/(precision+recall)\n",
        "#t = tp / 2*(tp+fn)\n",
        "#u = tn / 2*(tn+fp)\n",
        "#roc = tp*fp+2*tp*tn+2*fn*tn/(tp+fn)*(fp+tn)\n",
        "print('Pengukuran menggunakan perhitungan manual\\ndengan confusion matrix (train_test_split)')\n",
        "print('a. Accuracy       :',accuracy)\n",
        "print('b. ROC-Curve Score:(tidak ada formula yang pasti)')\n",
        "print('c. Precision      :',precision)\n",
        "print('d. Recall         :',recall)\n",
        "print('e. Sensitivity    :',recall)\n",
        "print('f. Specificity    :',specifity)\n",
        "print('g. F1-Measure     :',f1)"
      ],
      "execution_count": null,
      "outputs": [
        {
          "output_type": "stream",
          "text": [
            "Confusion matrix\n",
            "[[134  23]\n",
            " [ 28  83]]\n",
            "TP =  134\n",
            "FP =  23\n",
            "FN =  28\n",
            "TN =  83 \n",
            "\n",
            "Pengukuran menggunakan perhitungan manual\n",
            "dengan confusion matrix (train_test_split)\n",
            "a. Accuracy       : 0.8097014925373134\n",
            "b. ROC-Curve Score:(tidak ada formula yang pasti)\n",
            "c. Precision      : 0.8535031847133758\n",
            "d. Recall         : 0.8271604938271605\n",
            "e. Sensitivity    : 0.8271604938271605\n",
            "f. Specificity    : 0.7830188679245284\n",
            "g. F1-Measure     : 0.84012539184953\n"
          ],
          "name": "stdout"
        }
      ]
    },
    {
      "cell_type": "code",
      "metadata": {
        "id": "qrC4nHU1YX8J",
        "outputId": "7b3d0761-3a6e-4f20-c2f0-ee489515fb72"
      },
      "source": [
        "print(classification_report(y_test_split,y_pred_dt))"
      ],
      "execution_count": null,
      "outputs": [
        {
          "output_type": "stream",
          "text": [
            "              precision    recall  f1-score   support\n",
            "\n",
            "           0       0.83      0.85      0.84       157\n",
            "           1       0.78      0.75      0.76       111\n",
            "\n",
            "    accuracy                           0.81       268\n",
            "   macro avg       0.81      0.80      0.80       268\n",
            "weighted avg       0.81      0.81      0.81       268\n",
            "\n"
          ],
          "name": "stdout"
        }
      ]
    },
    {
      "cell_type": "code",
      "metadata": {
        "id": "JuzUoywJYX8J",
        "outputId": "8b075a14-764f-4d69-d38e-b7ddc3f324d4"
      },
      "source": [
        "dt_acc_cv = cross_val_score(dt, X, y, cv=kf, scoring='accuracy')\n",
        "try:\n",
        "    dt_roc_cv = cross_val_score(dt, X, y, cv=kf, scoring='roc_auc')\n",
        "except ValueError:\n",
        "    dt_roc_cv = 0\n",
        "dt_prec_cv = cross_val_score(dt, X, y, cv=kf, scoring='precision')\n",
        "dt_recall_cv = cross_val_score(dt, X, y, cv=kf, scoring='recall')\n",
        "dt_f1_cv = cross_val_score(dt, X, y, cv=kf, scoring='f1')\n",
        "print('Pengukuran K-fold menggunakan cross_val_score')\n",
        "print('a. Accuracy       :',mean(dt_acc_cv))\n",
        "print('b. ROC-Curve Score:',mean(dt_roc_cv))\n",
        "print('c. Precision      :',mean(dt_prec_cv))\n",
        "print('d. Recall         :',mean(dt_recall_cv))\n",
        "print('e. Sensitivity    :',mean(dt_recall_cv))\n",
        "print('f. Specificity    :(tidak tersedia dalam scoring cross_val_score)')\n",
        "print('g. F1-Measure     :',mean(dt_f1_cv))"
      ],
      "execution_count": null,
      "outputs": [
        {
          "output_type": "stream",
          "text": [
            "Pengukuran K-fold menggunakan cross_val_score\n",
            "a. Accuracy       : 0.7811311279894545\n",
            "b. ROC-Curve Score: 0.7789924481649486\n",
            "c. Precision      : 0.7268674628263669\n",
            "d. Recall         : 0.7251691108407525\n",
            "e. Sensitivity    : 0.7251691108407525\n",
            "f. Specificity    :(tidak tersedia dalam scoring cross_val_score)\n",
            "g. F1-Measure     : 0.7211132166737799\n"
          ],
          "name": "stdout"
        }
      ]
    },
    {
      "cell_type": "code",
      "metadata": {
        "id": "cqVfVMAXYX8J"
      },
      "source": [
        "###########################################################33"
      ],
      "execution_count": null,
      "outputs": []
    },
    {
      "cell_type": "code",
      "metadata": {
        "id": "PSi4bYfIYX8K"
      },
      "source": [
        "#svm\n",
        "svmc = svm.SVC(kernel='linear')\n",
        "svmc.fit(X_train_split, y_train_split)\n",
        "y_pred_svmc = svmc.predict(X_test_split)"
      ],
      "execution_count": null,
      "outputs": []
    },
    {
      "cell_type": "code",
      "metadata": {
        "scrolled": true,
        "id": "EZahWGdDYX8K",
        "outputId": "e3ab82b9-2175-4c7e-e085-d8e5af839ff4"
      },
      "source": [
        "svmc_acc = accuracy_score(y_test_split,y_pred_svmc)\n",
        "svmc_roc = roc_auc_score(y_test_split, y_pred_svmc)\n",
        "svmc_prec = precision_score(y_test_split, y_pred_svmc)\n",
        "svmc_recall = recall_score(y_test_split, y_pred_svmc)\n",
        "#svmc_spec = recall_score(y_test_split, y_pred_svmc,pos_label=2)\n",
        "svmc_f1 = f1_score(y_test_split, y_pred_svmc)\n",
        "print('Pengukuran menggunakan train_test_split dengan sklearn.metrics')\n",
        "print('a. Accuracy       :',svmc_acc)\n",
        "print('b. ROC-Curve Score:',svmc_roc)\n",
        "print('c. Precision      :',svmc_prec)\n",
        "print('d. Recall         :',svmc_recall)\n",
        "print('e. Sensitivity    :',svmc_recall)\n",
        "print('f. Specificity    : (tidak tersedia di sklearn.metrics)')\n",
        "print('g. F1-Measure     :',svmc_f1)"
      ],
      "execution_count": null,
      "outputs": [
        {
          "output_type": "stream",
          "text": [
            "Pengukuran menggunakan train_test_split dengan sklearn.metrics\n",
            "a. Accuracy       : 0.7910447761194029\n",
            "b. ROC-Curve Score: 0.7781029437080392\n",
            "c. Precision      : 0.7722772277227723\n",
            "d. Recall         : 0.7027027027027027\n",
            "e. Sensitivity    : 0.7027027027027027\n",
            "f. Specificity    : (tidak tersedia di sklearn.metrics)\n",
            "g. F1-Measure     : 0.7358490566037735\n"
          ],
          "name": "stdout"
        }
      ]
    },
    {
      "cell_type": "code",
      "metadata": {
        "id": "xAT21NdKYX8K",
        "outputId": "7e8164fd-5205-4b85-e53f-bb5c24eb464a"
      },
      "source": [
        "matrix = confusion_matrix(y_test_split,y_pred_svmc)\n",
        "print('Confusion matrix')\n",
        "print(matrix)\n",
        "tp = (matrix[0][0])\n",
        "fp = (matrix[0][1])\n",
        "fn = (matrix[1][0])\n",
        "tn = (matrix[1][1])\n",
        "print(\"TP = \",tp)\n",
        "print(\"FP = \",fp)\n",
        "print(\"FN = \",fn)\n",
        "print(\"TN = \",tn,'\\n')\n",
        "recall = tp/(tp+fn)\n",
        "specifity = tn/(tn+fp)\n",
        "accuracy = (tp+tn)/(tp+fn+fp+tn)\n",
        "precision = tp/(tp+fp)\n",
        "f1 = 2*(precision*recall)/(precision+recall)\n",
        "#t = tp / 2*(tp+fn)\n",
        "#u = tn / 2*(tn+fp)\n",
        "#roc = tp*fp+2*tp*tn+2*fn*tn/(tp+fn)*(fp+tn)\n",
        "print('Pengukuran menggunakan perhitungan manual\\ndengan confusion matrix (train_test_split)')\n",
        "print('a. Accuracy       :',accuracy)\n",
        "print('b. ROC-Curve Score:(tidak ada formula yang pasti)')\n",
        "print('c. Precision      :',precision)\n",
        "print('d. Recall         :',recall)\n",
        "print('e. Sensitivity    :',recall)\n",
        "print('f. Specificity    :',specifity)\n",
        "print('g. F1-Measure     :',f1)"
      ],
      "execution_count": null,
      "outputs": [
        {
          "output_type": "stream",
          "text": [
            "Confusion matrix\n",
            "[[134  23]\n",
            " [ 33  78]]\n",
            "TP =  134\n",
            "FP =  23\n",
            "FN =  33\n",
            "TN =  78 \n",
            "\n",
            "Pengukuran menggunakan perhitungan manual\n",
            "dengan confusion matrix (train_test_split)\n",
            "a. Accuracy       : 0.7910447761194029\n",
            "b. ROC-Curve Score:(tidak ada formula yang pasti)\n",
            "c. Precision      : 0.8535031847133758\n",
            "d. Recall         : 0.8023952095808383\n",
            "e. Sensitivity    : 0.8023952095808383\n",
            "f. Specificity    : 0.7722772277227723\n",
            "g. F1-Measure     : 0.8271604938271604\n"
          ],
          "name": "stdout"
        }
      ]
    },
    {
      "cell_type": "code",
      "metadata": {
        "id": "WiIjwsCQYX8K",
        "outputId": "4c42737a-4eeb-476d-de88-13146525a2ce"
      },
      "source": [
        "print(classification_report(y_test_split,y_pred_svmc))"
      ],
      "execution_count": null,
      "outputs": [
        {
          "output_type": "stream",
          "text": [
            "              precision    recall  f1-score   support\n",
            "\n",
            "           0       0.80      0.85      0.83       157\n",
            "           1       0.77      0.70      0.74       111\n",
            "\n",
            "    accuracy                           0.79       268\n",
            "   macro avg       0.79      0.78      0.78       268\n",
            "weighted avg       0.79      0.79      0.79       268\n",
            "\n"
          ],
          "name": "stdout"
        }
      ]
    },
    {
      "cell_type": "code",
      "metadata": {
        "id": "XwdrE2X6YX8L",
        "outputId": "11fd07a4-02e2-47d3-a0fd-7dacf408a2d7"
      },
      "source": [
        "svmc_acc_cv = cross_val_score(svmc, X, y, cv=kf, scoring='accuracy')\n",
        "try:\n",
        "    svmc_roc_cv = cross_val_score(svmc, X, y, cv=kf, scoring='roc_auc')\n",
        "except ValueError:\n",
        "    svmc_roc_cv = 0\n",
        "svmc_prec_cv = cross_val_score(svmc, X, y, cv=kf, scoring='precision')\n",
        "svmc_recall_cv = cross_val_score(svmc, X, y, cv=kf, scoring='recall')\n",
        "svmc_f1_cv = cross_val_score(svmc, X, y, cv=kf, scoring='f1')\n",
        "print('Pengukuran K-fold menggunakan cross_val_score')\n",
        "print('a. Accuracy       :',mean(svmc_acc_cv))\n",
        "print('b. ROC-Curve Score:',mean(svmc_roc_cv))\n",
        "print('c. Precision      :',mean(svmc_prec_cv))\n",
        "print('d. Recall         :',mean(svmc_recall_cv))\n",
        "print('e. Sensitivity    :',mean(svmc_recall_cv))\n",
        "print('f. Specificity    :(tidak tersedia dalam scoring cross_val_score)')\n",
        "print('g. F1-Measure     :',mean(svmc_f1_cv))"
      ],
      "execution_count": null,
      "outputs": [
        {
          "output_type": "stream",
          "text": [
            "Pengukuran K-fold menggunakan cross_val_score\n",
            "a. Accuracy       : 0.786761659657272\n",
            "b. ROC-Curve Score: 0.8262535960742934\n",
            "c. Precision      : 0.7393720546479754\n",
            "d. Recall         : 0.6797917371051699\n",
            "e. Sensitivity    : 0.6797917371051699\n",
            "f. Specificity    :(tidak tersedia dalam scoring cross_val_score)\n",
            "g. F1-Measure     : 0.7079646458574931\n"
          ],
          "name": "stdout"
        }
      ]
    }
  ]
}